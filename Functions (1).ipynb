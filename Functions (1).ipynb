{
  "nbformat": 4,
  "nbformat_minor": 0,
  "metadata": {
    "colab": {
      "provenance": []
    },
    "kernelspec": {
      "name": "python3",
      "display_name": "Python 3"
    },
    "language_info": {
      "name": "python"
    }
  },
  "cells": [
    {
      "cell_type": "markdown",
      "source": [
        "#Functions(Theory)"
      ],
      "metadata": {
        "id": "Hc7PNHEBNHkg"
      }
    },
    {
      "cell_type": "markdown",
      "source": [
        "1. What is the difference between a function and a method in Python?\n",
        "   - In Python, a function is a reusable block of code that performs a specific task and can be called by its name, while a method is a function that is associated with a class or object, and is called using dot notation (object.method())."
      ],
      "metadata": {
        "id": "iVT32PtyNOHv"
      }
    },
    {
      "cell_type": "code",
      "source": [
        "#What is the difference between a function and a method in Python?\n",
        "\"\"\"\n",
        "In Python, a function is a reusable block of code that performs a specific task and can be called by its name, while a method is a function that is associated with a class or object, and is called using dot notation (object.method()).\n",
        "\n",
        "\"\"\""
      ],
      "metadata": {
        "colab": {
          "base_uri": "https://localhost:8080/",
          "height": 70
        },
        "id": "i9_eu22_NHFC",
        "outputId": "87595f1f-0393-4e90-880d-8909f75588d2"
      },
      "execution_count": 6,
      "outputs": [
        {
          "output_type": "execute_result",
          "data": {
            "text/plain": [
              "'\\nIn Python, a function is a reusable block of code that performs a specific task and can be called by its name, while a method is a function that is associated with a class or object, and is called using dot notation (object.method()). \\n\\n'"
            ],
            "application/vnd.google.colaboratory.intrinsic+json": {
              "type": "string"
            }
          },
          "metadata": {},
          "execution_count": 6
        }
      ]
    },
    {
      "cell_type": "code",
      "execution_count": 4,
      "metadata": {
        "colab": {
          "base_uri": "https://localhost:8080/"
        },
        "id": "6AHg-Iz2M4Fj",
        "outputId": "3692b9c4-a911-46e3-85e9-eeadbce2d032"
      },
      "outputs": [
        {
          "output_type": "stream",
          "name": "stdout",
          "text": [
            "Hello, Alice!\n"
          ]
        }
      ],
      "source": [
        "    def greet(name):#example\n",
        "        print(f\"Hello, {name}!\")\n",
        "    greet(\"Alice\")"
      ]
    },
    {
      "cell_type": "markdown",
      "source": [
        "2.Explain the concept of function arguments and parameters in Python.\n",
        "  - In Python, parameters are placeholders defined in a function's definition, while arguments are the actual values passed to the function when it's called."
      ],
      "metadata": {
        "id": "qakrLvq1UCTs"
      }
    },
    {
      "cell_type": "code",
      "source": [
        "#Explain the concept of function arguments and parameters in Python.\n",
        "\"\"\"\n",
        "In Python, parameters are placeholders defined in a function's definition, while arguments are the actual values passed to the function when it's called.\n",
        "\"\"\""
      ],
      "metadata": {
        "colab": {
          "base_uri": "https://localhost:8080/",
          "height": 52
        },
        "id": "Cx8k6MoXTbdD",
        "outputId": "ea3bfb71-4f6f-4147-eece-9908fd406575"
      },
      "execution_count": 5,
      "outputs": [
        {
          "output_type": "execute_result",
          "data": {
            "text/plain": [
              "\"\\nIn Python, parameters are placeholders defined in a function's definition, while arguments are the actual values passed to the function when it's called. \\n\""
            ],
            "application/vnd.google.colaboratory.intrinsic+json": {
              "type": "string"
            }
          },
          "metadata": {},
          "execution_count": 5
        }
      ]
    },
    {
      "cell_type": "code",
      "source": [
        "    def add(x, y):\n",
        "        return x + y\n",
        "    result = add(5, 3)\n",
        "    print(result) #example"
      ],
      "metadata": {
        "colab": {
          "base_uri": "https://localhost:8080/"
        },
        "id": "RQpEMjWmUUVn",
        "outputId": "7ddedd94-bef0-4af5-eb4e-815b774cd035"
      },
      "execution_count": 8,
      "outputs": [
        {
          "output_type": "stream",
          "name": "stdout",
          "text": [
            "8\n"
          ]
        }
      ]
    },
    {
      "cell_type": "markdown",
      "source": [
        "3.What are the different ways to define and call a function in Python?\n",
        " - In Python, you define functions using the def keyword, followed by the function name, parentheses for arguments (if any), a colon, and an indented code block for the function's body. You call a function by simply writing its name followed by parentheses, potentially with arguments."
      ],
      "metadata": {
        "id": "3kekWykPUihj"
      }
    },
    {
      "cell_type": "code",
      "source": [
        "#What are the different ways to define and call a function in Python?\n",
        "\"\"\"\n",
        "In Python, you define functions using the def keyword, followed by the function name, parentheses for arguments (if any), a colon, and an indented code block for the function's body. You call a function by simply writing its name followed by parentheses, potentially with arguments.\n",
        "\"\"\""
      ],
      "metadata": {
        "colab": {
          "base_uri": "https://localhost:8080/",
          "height": 70
        },
        "id": "KxndcDczUae-",
        "outputId": "e7959a03-5320-4bfc-a8a2-aae493b88a06"
      },
      "execution_count": 11,
      "outputs": [
        {
          "output_type": "execute_result",
          "data": {
            "text/plain": [
              "\"\\nIn Python, you define functions using the def keyword, followed by the function name, parentheses for arguments (if any), a colon, and an indented code block for the function's body. You call a function by simply writing its name followed by parentheses, potentially with arguments. \\n\""
            ],
            "application/vnd.google.colaboratory.intrinsic+json": {
              "type": "string"
            }
          },
          "metadata": {},
          "execution_count": 11
        }
      ]
    },
    {
      "cell_type": "code",
      "source": [
        "def add_numbers(a, b):\n",
        "    result = a + b\n",
        "    return result\n",
        "sum_result = add_numbers(5, 3)  #example\n",
        "print(f\"The sum is: {sum_result}\")"
      ],
      "metadata": {
        "colab": {
          "base_uri": "https://localhost:8080/"
        },
        "id": "6sGLIyyBbXxX",
        "outputId": "2774b9c9-21b9-430d-b03f-d8f443992f53"
      },
      "execution_count": 35,
      "outputs": [
        {
          "output_type": "stream",
          "name": "stdout",
          "text": [
            "The sum is: 8\n"
          ]
        }
      ]
    },
    {
      "cell_type": "markdown",
      "source": [
        "4.  What is the purpose of the `return` statement in a Python function?\n",
        "  - The return statement in a Python function serves to terminate the function's execution and send a value back to the caller, allowing the function's output to be used in other parts of the program."
      ],
      "metadata": {
        "id": "IW4zTbViXKAi"
      }
    },
    {
      "cell_type": "code",
      "source": [
        "# What is the purpose of the `return` statement in a Python function?\n",
        "\"\"\"\n",
        "The return statement in a Python function serves to terminate the function's execution and send a value back to the caller, allowing the function's output to be used in other parts of the program.\n",
        "\"\"\""
      ],
      "metadata": {
        "colab": {
          "base_uri": "https://localhost:8080/",
          "height": 70
        },
        "id": "znLrCxR0VTej",
        "outputId": "8f3374c5-f35b-44e4-de56-ee5235e502df"
      },
      "execution_count": 22,
      "outputs": [
        {
          "output_type": "execute_result",
          "data": {
            "text/plain": [
              "\"\\nThe return statement in a Python function serves to terminate the function's execution and send a value back to the caller, allowing the function's output to be used in other parts of the program. \\n\""
            ],
            "application/vnd.google.colaboratory.intrinsic+json": {
              "type": "string"
            }
          },
          "metadata": {},
          "execution_count": 22
        }
      ]
    },
    {
      "cell_type": "code",
      "source": [
        "    def add_numbers(a, b):\n",
        "        return a + b\n",
        "    result = add_numbers(3, 4)\n",
        "    print(result)  #example"
      ],
      "metadata": {
        "colab": {
          "base_uri": "https://localhost:8080/"
        },
        "id": "J3_0NNclXW0d",
        "outputId": "31446b4b-ba97-4c83-d232-685bb6f2b35f"
      },
      "execution_count": 24,
      "outputs": [
        {
          "output_type": "stream",
          "name": "stdout",
          "text": [
            "7\n"
          ]
        }
      ]
    },
    {
      "cell_type": "markdown",
      "source": [
        "5.  What are iterators in Python and how do they differ from iterables?\n",
        "  - An Iterable is basically an object that any user can iterate over. An Iterator is also an object that helps a user in iterating over another object (that is iterable)."
      ],
      "metadata": {
        "id": "B5A5loYlXj-5"
      }
    },
    {
      "cell_type": "code",
      "source": [
        "# What are iterators in Python and how do they differ from iterables?\n",
        "\"\"\"\n",
        "An Iterable is basically an object that any user can iterate over. An Iterator is also an object that helps a user in iterating over another object (that is iterable).\n",
        "\"\"\""
      ],
      "metadata": {
        "id": "_ZcvF0reXezl"
      },
      "execution_count": null,
      "outputs": []
    },
    {
      "cell_type": "code",
      "source": [
        "#example\n",
        "s=\"GFG\"\n",
        "s=iter(s)\n",
        "print(s)\n",
        "print(next(s))\n",
        "print(next(s))\n",
        "print(next(s))\n"
      ],
      "metadata": {
        "colab": {
          "base_uri": "https://localhost:8080/"
        },
        "id": "oJRilzPLYLKo",
        "outputId": "e854b90b-93ba-429b-8ef5-73bdcec096ec"
      },
      "execution_count": 25,
      "outputs": [
        {
          "output_type": "stream",
          "name": "stdout",
          "text": [
            "<str_ascii_iterator object at 0x7d1064695db0>\n",
            "G\n",
            "F\n",
            "G\n"
          ]
        }
      ]
    },
    {
      "cell_type": "markdown",
      "source": [
        "6.Explain the concept of generators in Python and how they are defined?\n",
        "   - A Python generator function allows you to declare a function that behaves like an iterator, providing a faster and easier way to create iterators.In Python, generators are defined using a function that utilizes the yield keyword instead of return, producing a sequence of values lazily, one at a time, rather than storing them all in memory.\n"
      ],
      "metadata": {
        "id": "ejsuD_MfYbHP"
      }
    },
    {
      "cell_type": "code",
      "source": [
        "#Explain the concept of generators in Python and how they are defined.\n",
        "\"\"\"\n",
        " A Python generator function allows you to declare a function that behaves like an iterator, providing a faster and easier way to create iterators.In Python, generators are defined using a function that utilizes the yield keyword instead of return, producing a sequence of values lazily, one at a time, rather than storing them all in memory.\n",
        "\n",
        "\"\"\""
      ],
      "metadata": {
        "id": "BZpaSD_3YZzy"
      },
      "execution_count": null,
      "outputs": []
    },
    {
      "cell_type": "code",
      "source": [
        "def my_generator():\n",
        "    yield 1\n",
        "    yield 2\n",
        "    yield 3\n",
        "gen = my_generator()\n",
        "for value in gen: #example\n",
        "    print(value)"
      ],
      "metadata": {
        "colab": {
          "base_uri": "https://localhost:8080/"
        },
        "id": "KC5nuxQqZQHV",
        "outputId": "8351a9d2-a808-4fa7-a773-14f1320d780d"
      },
      "execution_count": 27,
      "outputs": [
        {
          "output_type": "stream",
          "name": "stdout",
          "text": [
            "1\n",
            "2\n",
            "3\n"
          ]
        }
      ]
    },
    {
      "cell_type": "markdown",
      "source": [
        "7.What are the advantages of using generators over regular functions?\n",
        "   - Generators offer advantages over regular functions, particularly when dealing with large datasets or infinite sequences, by providing memory efficiency (yielding values on demand), simplifying code for iteration, and enabling lazy evaluation."
      ],
      "metadata": {
        "id": "4n9EdoFxZfsV"
      }
    },
    {
      "cell_type": "code",
      "source": [
        "#What are the advantages of using generators over regular functions?\n",
        "\"\"\"\n",
        "Generators offer advantages over regular functions, particularly when dealing with large datasets or infinite sequences, by providing memory efficiency (yielding values on demand), simplifying code for iteration, and enabling lazy evaluation.\n",
        "\"\"\""
      ],
      "metadata": {
        "id": "wCDAaLPLZVAP"
      },
      "execution_count": null,
      "outputs": []
    },
    {
      "cell_type": "code",
      "source": [
        "#example\n",
        "def Square():\n",
        "\tnumber = 2\n",
        "\twhile True:\n",
        "\t\tyield number\n",
        "\t\tnumber *= number\n",
        "Sq = Square()\n",
        "print(next(Sq))\n",
        "print(next(Sq))"
      ],
      "metadata": {
        "colab": {
          "base_uri": "https://localhost:8080/"
        },
        "id": "q9O4UxFZZrOK",
        "outputId": "cec699bb-2112-4d4a-9632-2fb4177c1304"
      },
      "execution_count": 29,
      "outputs": [
        {
          "output_type": "stream",
          "name": "stdout",
          "text": [
            "2\n",
            "4\n"
          ]
        }
      ]
    },
    {
      "cell_type": "markdown",
      "source": [
        "8.What is a lambda function in Python and when is it typically used?\n",
        "  - In Python, a lambda function is a small, anonymous function defined using the lambda keyword, typically used for short, simple operations where a full function definition would be unnecessary, often as arguments to other functions."
      ],
      "metadata": {
        "id": "OGtUPng5aAvy"
      }
    },
    {
      "cell_type": "code",
      "source": [
        "#What is a lambda function in Python and when is it typically used?\n",
        "\"\"\"\n",
        "In Python, a lambda function is a small, anonymous function defined using the lambda keyword, typically used for short, simple operations where a full function definition would be unnecessary, often as arguments to other functions.\n",
        "\"\"\""
      ],
      "metadata": {
        "id": "2tb-dFyOZ6rm"
      },
      "execution_count": null,
      "outputs": []
    },
    {
      "cell_type": "code",
      "source": [
        "    #example\n",
        "    def square(x):\n",
        "        return x * x\n",
        "    square_lambda = lambda x: x * x\n",
        "    print(square(5))\n",
        "    print(square_lambda(5))"
      ],
      "metadata": {
        "colab": {
          "base_uri": "https://localhost:8080/"
        },
        "id": "0NMsqwgDaP8p",
        "outputId": "e30abd76-1ce2-4d53-b5ef-fbca58b65c13"
      },
      "execution_count": 30,
      "outputs": [
        {
          "output_type": "stream",
          "name": "stdout",
          "text": [
            "25\n",
            "25\n"
          ]
        }
      ]
    },
    {
      "cell_type": "markdown",
      "source": [
        "9.Explain the purpose and usage of the `map()` function in Python.\n",
        "   - Map in Python is a function that works as an iterator to return a result after applying a function to every item of an iterable (tuple, lists, etc.). It is used when you want to apply a single transformation function to all the iterable elements"
      ],
      "metadata": {
        "id": "viH3WSKZafZA"
      }
    },
    {
      "cell_type": "code",
      "source": [
        "#Explain the purpose and usage of the `map()` function in Python.\n",
        "\"\"\"\n",
        "Map in Python is a function that works as an iterator to return a result after applying a function to every item of an iterable (tuple, lists, etc.). It is used when you want to apply a single transformation function to all the iterable elements\n",
        "\"\"\""
      ],
      "metadata": {
        "id": "8Kyb5wlGae9x"
      },
      "execution_count": null,
      "outputs": []
    },
    {
      "cell_type": "code",
      "source": [
        "numbers = [1, 2, 3, 4, 5]\n",
        "squared_numbers = map(lambda x: x**2, numbers)\n",
        "print(list(squared_numbers))  #example"
      ],
      "metadata": {
        "colab": {
          "base_uri": "https://localhost:8080/"
        },
        "id": "WnxIohMAabmc",
        "outputId": "bf8ef146-0d21-4bba-e514-ea9d0eb984a3"
      },
      "execution_count": 33,
      "outputs": [
        {
          "output_type": "stream",
          "name": "stdout",
          "text": [
            "[1, 4, 9, 16, 25]\n"
          ]
        }
      ]
    },
    {
      "cell_type": "markdown",
      "source": [
        "10.What is the difference between `map()`, `reduce()`, and `filter()` functions in Python?\n",
        "  - 'Map' applies a function to each element in an array and returns an array of the results, 'Reduce' applies a function to the array and returns a single output, 'Filter' uses a boolean function to select certain elements from an array."
      ],
      "metadata": {
        "id": "G6RPUT4wbmAm"
      }
    },
    {
      "cell_type": "code",
      "source": [
        "#What is the difference between `map()`, `reduce()`, and `filter()` functions in Python?\n",
        "\"\"\"\n",
        "'Map' applies a function to each element in an array and returns an array of the results, 'Reduce' applies a function to the array and returns a single output, 'Filter' uses a boolean function to select certain elements from an array.\n",
        "\"\"\""
      ],
      "metadata": {
        "id": "W9cdC0jbbE3q"
      },
      "execution_count": null,
      "outputs": []
    },
    {
      "cell_type": "code",
      "source": [
        "def double(n):\n",
        "    return n * 2\n",
        "numbers = [5, 6, 7, 8] #map functions example\n",
        "result = map(double, numbers)\n",
        "print(list(result))\n"
      ],
      "metadata": {
        "colab": {
          "base_uri": "https://localhost:8080/"
        },
        "id": "xyU7lkiucUhL",
        "outputId": "0071ba9e-a28f-4a72-9507-60c8b419a6d8"
      },
      "execution_count": 36,
      "outputs": [
        {
          "output_type": "stream",
          "name": "stdout",
          "text": [
            "[10, 12, 14, 16]\n"
          ]
        }
      ]
    },
    {
      "cell_type": "code",
      "source": [
        "import functools\n",
        "numbers = [1, 2, 3, 4]\n",
        "product = functools.reduce(lambda x, y: x * y, numbers)#reduce functions example\n",
        "print(\"Product of list elements:\", product)\n"
      ],
      "metadata": {
        "colab": {
          "base_uri": "https://localhost:8080/"
        },
        "id": "_IKE2DPCchjz",
        "outputId": "864ff634-ece7-4d7f-d952-e9500ca480d5"
      },
      "execution_count": 37,
      "outputs": [
        {
          "output_type": "stream",
          "name": "stdout",
          "text": [
            "Product of list elements: 24\n"
          ]
        }
      ]
    },
    {
      "cell_type": "code",
      "source": [
        "#filter function example\n",
        "def is_even(n):\n",
        "    return n % 2 == 0\n",
        "numbers = [1, 2, 3, 4, 5, 6, 7, 8, 9, 10]\n",
        "even_numbers = filter(is_even, numbers)\n",
        "print(\"Even numbers:\", list(even_numbers))\n"
      ],
      "metadata": {
        "colab": {
          "base_uri": "https://localhost:8080/"
        },
        "id": "O6CDgycVcqut",
        "outputId": "81ba826f-974d-433a-b4ac-6805365aa3f3"
      },
      "execution_count": 38,
      "outputs": [
        {
          "output_type": "stream",
          "name": "stdout",
          "text": [
            "Even numbers: [2, 4, 6, 8, 10]\n"
          ]
        }
      ]
    },
    {
      "cell_type": "markdown",
      "source": [
        "11.Using pen & Paper write the internal mechanism for sum operation using  reduce function on this given\n",
        "list:[47,11,42,13];"
      ],
      "metadata": {
        "id": "mKXixKnJc6wi"
      }
    },
    {
      "cell_type": "code",
      "source": [
        "from google.colab import files\n",
        "uploaded = files.upload()"
      ],
      "metadata": {
        "colab": {
          "base_uri": "https://localhost:8080/",
          "height": 94
        },
        "id": "S05N3DiAc2at",
        "outputId": "81db3f04-1da8-4e41-f80a-eef3a501a988"
      },
      "execution_count": 41,
      "outputs": [
        {
          "output_type": "display_data",
          "data": {
            "text/plain": [
              "<IPython.core.display.HTML object>"
            ],
            "text/html": [
              "\n",
              "     <input type=\"file\" id=\"files-0ab0f4a2-c4a9-4dcb-a50b-e021f4017b7f\" name=\"files[]\" multiple disabled\n",
              "        style=\"border:none\" />\n",
              "     <output id=\"result-0ab0f4a2-c4a9-4dcb-a50b-e021f4017b7f\">\n",
              "      Upload widget is only available when the cell has been executed in the\n",
              "      current browser session. Please rerun this cell to enable.\n",
              "      </output>\n",
              "      <script>// Copyright 2017 Google LLC\n",
              "//\n",
              "// Licensed under the Apache License, Version 2.0 (the \"License\");\n",
              "// you may not use this file except in compliance with the License.\n",
              "// You may obtain a copy of the License at\n",
              "//\n",
              "//      http://www.apache.org/licenses/LICENSE-2.0\n",
              "//\n",
              "// Unless required by applicable law or agreed to in writing, software\n",
              "// distributed under the License is distributed on an \"AS IS\" BASIS,\n",
              "// WITHOUT WARRANTIES OR CONDITIONS OF ANY KIND, either express or implied.\n",
              "// See the License for the specific language governing permissions and\n",
              "// limitations under the License.\n",
              "\n",
              "/**\n",
              " * @fileoverview Helpers for google.colab Python module.\n",
              " */\n",
              "(function(scope) {\n",
              "function span(text, styleAttributes = {}) {\n",
              "  const element = document.createElement('span');\n",
              "  element.textContent = text;\n",
              "  for (const key of Object.keys(styleAttributes)) {\n",
              "    element.style[key] = styleAttributes[key];\n",
              "  }\n",
              "  return element;\n",
              "}\n",
              "\n",
              "// Max number of bytes which will be uploaded at a time.\n",
              "const MAX_PAYLOAD_SIZE = 100 * 1024;\n",
              "\n",
              "function _uploadFiles(inputId, outputId) {\n",
              "  const steps = uploadFilesStep(inputId, outputId);\n",
              "  const outputElement = document.getElementById(outputId);\n",
              "  // Cache steps on the outputElement to make it available for the next call\n",
              "  // to uploadFilesContinue from Python.\n",
              "  outputElement.steps = steps;\n",
              "\n",
              "  return _uploadFilesContinue(outputId);\n",
              "}\n",
              "\n",
              "// This is roughly an async generator (not supported in the browser yet),\n",
              "// where there are multiple asynchronous steps and the Python side is going\n",
              "// to poll for completion of each step.\n",
              "// This uses a Promise to block the python side on completion of each step,\n",
              "// then passes the result of the previous step as the input to the next step.\n",
              "function _uploadFilesContinue(outputId) {\n",
              "  const outputElement = document.getElementById(outputId);\n",
              "  const steps = outputElement.steps;\n",
              "\n",
              "  const next = steps.next(outputElement.lastPromiseValue);\n",
              "  return Promise.resolve(next.value.promise).then((value) => {\n",
              "    // Cache the last promise value to make it available to the next\n",
              "    // step of the generator.\n",
              "    outputElement.lastPromiseValue = value;\n",
              "    return next.value.response;\n",
              "  });\n",
              "}\n",
              "\n",
              "/**\n",
              " * Generator function which is called between each async step of the upload\n",
              " * process.\n",
              " * @param {string} inputId Element ID of the input file picker element.\n",
              " * @param {string} outputId Element ID of the output display.\n",
              " * @return {!Iterable<!Object>} Iterable of next steps.\n",
              " */\n",
              "function* uploadFilesStep(inputId, outputId) {\n",
              "  const inputElement = document.getElementById(inputId);\n",
              "  inputElement.disabled = false;\n",
              "\n",
              "  const outputElement = document.getElementById(outputId);\n",
              "  outputElement.innerHTML = '';\n",
              "\n",
              "  const pickedPromise = new Promise((resolve) => {\n",
              "    inputElement.addEventListener('change', (e) => {\n",
              "      resolve(e.target.files);\n",
              "    });\n",
              "  });\n",
              "\n",
              "  const cancel = document.createElement('button');\n",
              "  inputElement.parentElement.appendChild(cancel);\n",
              "  cancel.textContent = 'Cancel upload';\n",
              "  const cancelPromise = new Promise((resolve) => {\n",
              "    cancel.onclick = () => {\n",
              "      resolve(null);\n",
              "    };\n",
              "  });\n",
              "\n",
              "  // Wait for the user to pick the files.\n",
              "  const files = yield {\n",
              "    promise: Promise.race([pickedPromise, cancelPromise]),\n",
              "    response: {\n",
              "      action: 'starting',\n",
              "    }\n",
              "  };\n",
              "\n",
              "  cancel.remove();\n",
              "\n",
              "  // Disable the input element since further picks are not allowed.\n",
              "  inputElement.disabled = true;\n",
              "\n",
              "  if (!files) {\n",
              "    return {\n",
              "      response: {\n",
              "        action: 'complete',\n",
              "      }\n",
              "    };\n",
              "  }\n",
              "\n",
              "  for (const file of files) {\n",
              "    const li = document.createElement('li');\n",
              "    li.append(span(file.name, {fontWeight: 'bold'}));\n",
              "    li.append(span(\n",
              "        `(${file.type || 'n/a'}) - ${file.size} bytes, ` +\n",
              "        `last modified: ${\n",
              "            file.lastModifiedDate ? file.lastModifiedDate.toLocaleDateString() :\n",
              "                                    'n/a'} - `));\n",
              "    const percent = span('0% done');\n",
              "    li.appendChild(percent);\n",
              "\n",
              "    outputElement.appendChild(li);\n",
              "\n",
              "    const fileDataPromise = new Promise((resolve) => {\n",
              "      const reader = new FileReader();\n",
              "      reader.onload = (e) => {\n",
              "        resolve(e.target.result);\n",
              "      };\n",
              "      reader.readAsArrayBuffer(file);\n",
              "    });\n",
              "    // Wait for the data to be ready.\n",
              "    let fileData = yield {\n",
              "      promise: fileDataPromise,\n",
              "      response: {\n",
              "        action: 'continue',\n",
              "      }\n",
              "    };\n",
              "\n",
              "    // Use a chunked sending to avoid message size limits. See b/62115660.\n",
              "    let position = 0;\n",
              "    do {\n",
              "      const length = Math.min(fileData.byteLength - position, MAX_PAYLOAD_SIZE);\n",
              "      const chunk = new Uint8Array(fileData, position, length);\n",
              "      position += length;\n",
              "\n",
              "      const base64 = btoa(String.fromCharCode.apply(null, chunk));\n",
              "      yield {\n",
              "        response: {\n",
              "          action: 'append',\n",
              "          file: file.name,\n",
              "          data: base64,\n",
              "        },\n",
              "      };\n",
              "\n",
              "      let percentDone = fileData.byteLength === 0 ?\n",
              "          100 :\n",
              "          Math.round((position / fileData.byteLength) * 100);\n",
              "      percent.textContent = `${percentDone}% done`;\n",
              "\n",
              "    } while (position < fileData.byteLength);\n",
              "  }\n",
              "\n",
              "  // All done.\n",
              "  yield {\n",
              "    response: {\n",
              "      action: 'complete',\n",
              "    }\n",
              "  };\n",
              "}\n",
              "\n",
              "scope.google = scope.google || {};\n",
              "scope.google.colab = scope.google.colab || {};\n",
              "scope.google.colab._files = {\n",
              "  _uploadFiles,\n",
              "  _uploadFilesContinue,\n",
              "};\n",
              "})(self);\n",
              "</script> "
            ]
          },
          "metadata": {}
        },
        {
          "output_type": "stream",
          "name": "stdout",
          "text": [
            "Saving WhatsApp Image 2025-03-24 at 14.10.18.jpeg to WhatsApp Image 2025-03-24 at 14.10.18 (1).jpeg\n"
          ]
        }
      ]
    },
    {
      "cell_type": "markdown",
      "source": [
        "#Functions(Practical)"
      ],
      "metadata": {
        "id": "Vj42STvLeTqW"
      }
    },
    {
      "cell_type": "markdown",
      "source": [
        "1. Write a Python function that takes a list of numbers as input and returns the sum of all even numbers in\n",
        "the list."
      ],
      "metadata": {
        "id": "DHtZSJ8qeYAV"
      }
    },
    {
      "cell_type": "code",
      "source": [
        "#code\n",
        "num = int(input('Enter a number: ')) #1\n",
        "sum = 0\n",
        "i = 0\n",
        "while i <= num:\n",
        "    if i % 2 == 0:\n",
        "        print(i)\n",
        "        sum+=i\n",
        "    i+=1\n",
        "print(f\"Sum of all the even numbers is {sum}\")"
      ],
      "metadata": {
        "colab": {
          "base_uri": "https://localhost:8080/"
        },
        "id": "8Z8rtAvVdkeE",
        "outputId": "1b2b893c-af91-4064-fc0d-0593783830d2"
      },
      "execution_count": 42,
      "outputs": [
        {
          "output_type": "stream",
          "name": "stdout",
          "text": [
            "Enter a number: 22\n",
            "0\n",
            "2\n",
            "4\n",
            "6\n",
            "8\n",
            "10\n",
            "12\n",
            "14\n",
            "16\n",
            "18\n",
            "20\n",
            "22\n",
            "Sum of all the even numbers is 132\n"
          ]
        }
      ]
    },
    {
      "cell_type": "markdown",
      "source": [
        "2.Create a Python function that accepts a string and returns the reverse of that string."
      ],
      "metadata": {
        "id": "M_HWX8ukel7l"
      }
    },
    {
      "cell_type": "code",
      "source": [
        "s = \"python\"\n",
        "rev = s[::-1]\n",
        "print(rev)#code"
      ],
      "metadata": {
        "colab": {
          "base_uri": "https://localhost:8080/"
        },
        "id": "Z0Byc8Igejdg",
        "outputId": "e2ef4b14-7381-4a7c-d16e-f60c42088796"
      },
      "execution_count": 45,
      "outputs": [
        {
          "output_type": "stream",
          "name": "stdout",
          "text": [
            "nohtyp\n"
          ]
        }
      ]
    },
    {
      "cell_type": "markdown",
      "source": [
        "3. Implement a Python function that takes a list of integers and returns a new list containing the squares of\n",
        "each number."
      ],
      "metadata": {
        "id": "I_nDtr0tewk8"
      }
    },
    {
      "cell_type": "code",
      "source": [
        "#code\n",
        "l = []\n",
        "\n",
        "for i in range(1, 10):\n",
        "    l.append(i * i)\n",
        "\n",
        "print(\"List with square of integers from 1 to 10:\")\n",
        "print(l)"
      ],
      "metadata": {
        "colab": {
          "base_uri": "https://localhost:8080/"
        },
        "id": "6oxBphr6er-P",
        "outputId": "3f19bda0-07a1-4a1e-d8a3-c3a4b3214613"
      },
      "execution_count": 46,
      "outputs": [
        {
          "output_type": "stream",
          "name": "stdout",
          "text": [
            "List with square of integers from 1 to 10:\n",
            "[1, 4, 9, 16, 25, 36, 49, 64, 81]\n"
          ]
        }
      ]
    },
    {
      "cell_type": "markdown",
      "source": [
        "4.Write a Python function that checks if a given number is prime or not from 1 to 200."
      ],
      "metadata": {
        "id": "UvwUYRpae3Wk"
      }
    },
    {
      "cell_type": "code",
      "source": [
        "#code\n",
        "def checkPrime(num):\n",
        "    if num < 2:\n",
        "        return 0\n",
        "    else:\n",
        "        x = num // 2\n",
        "        for j in range(2, x + 1):\n",
        "            if num % j == 0:\n",
        "                return 0\n",
        "    return 1\n",
        "a, b = 1, 200\n",
        "for i in range(a, b + 1):\n",
        "    if checkPrime(i):\n",
        "        print(i, end=\" \")"
      ],
      "metadata": {
        "colab": {
          "base_uri": "https://localhost:8080/"
        },
        "id": "dh7X9OQ1e2xv",
        "outputId": "c20ea4dd-3aed-4e5f-fe06-508f00198f00"
      },
      "execution_count": 48,
      "outputs": [
        {
          "output_type": "stream",
          "name": "stdout",
          "text": [
            "2 3 5 7 11 13 17 19 23 29 31 37 41 43 47 53 59 61 67 71 73 79 83 89 97 101 103 107 109 113 127 131 137 139 149 151 157 163 167 173 179 181 191 193 197 199 "
          ]
        }
      ]
    },
    {
      "cell_type": "markdown",
      "source": [
        "5.Create an iterator class in Python that generates the Fibonacci sequence up to a specified number of\n",
        "terms."
      ],
      "metadata": {
        "id": "q9YmZyQue-hE"
      }
    },
    {
      "cell_type": "code",
      "source": [
        "#code\n",
        "a = 0\n",
        "b = 1\n",
        "num =int(input(\"enter a number to obtain fibonacci sequence: \"))\n",
        "if num == 1:\n",
        "    print(a)\n",
        "else:\n",
        "    print(a)\n",
        "    print(b)\n",
        "    for i in range(1,num+1):\n",
        "        c = a+b\n",
        "        a = b\n",
        "        b = c\n",
        "        print(c)"
      ],
      "metadata": {
        "colab": {
          "base_uri": "https://localhost:8080/"
        },
        "id": "CrWrtAM3e8-H",
        "outputId": "02bdd1e9-c807-4921-964d-2a181d7bca4c"
      },
      "execution_count": 49,
      "outputs": [
        {
          "output_type": "stream",
          "name": "stdout",
          "text": [
            "enter a number to obtain fibonacci sequence: 7\n",
            "0\n",
            "1\n",
            "1\n",
            "2\n",
            "3\n",
            "5\n",
            "8\n",
            "13\n",
            "21\n"
          ]
        }
      ]
    },
    {
      "cell_type": "markdown",
      "source": [
        "6. Write a generator function in Python that yields the powers of 2 up to a given exponent."
      ],
      "metadata": {
        "id": "2rbARQm7fJPz"
      }
    },
    {
      "cell_type": "code",
      "source": [
        "def power_generator(base, exponent): #code\n",
        "    result = 1\n",
        "    for i in range(exponent + 1):\n",
        "        yield result\n",
        "        result *= base\n",
        "base = int(input(\"Input the base number: \"))\n",
        "exponent = int(input(\"Input the exponent: \"))\n",
        "power_gen = power_generator(base, exponent)\n",
        "print(f\"Powers of {base} up to exponent {exponent}:\")\n",
        "for power in power_gen:\n",
        "    print(power)"
      ],
      "metadata": {
        "colab": {
          "base_uri": "https://localhost:8080/"
        },
        "id": "05nuURnafFJG",
        "outputId": "261540d2-0d64-489a-b89a-2fd94960ebe5"
      },
      "execution_count": 50,
      "outputs": [
        {
          "output_type": "stream",
          "name": "stdout",
          "text": [
            "Input the base number: 2\n",
            "Input the exponent: 2\n",
            "Powers of 2 up to exponent 2:\n",
            "1\n",
            "2\n",
            "4\n"
          ]
        }
      ]
    },
    {
      "cell_type": "markdown",
      "source": [
        "7. Implement a generator function that reads a file line by line and yields each line as a string."
      ],
      "metadata": {
        "id": "S1J1IDu4fUYi"
      }
    },
    {
      "cell_type": "code",
      "source": [
        "#code\n",
        "L = [\"India\\n\", \"won\\n\", \"2024 T20 world cup\\n\"]\n",
        "file1 = open('myfile.txt', 'w')\n",
        "file1.writelines(L)\n",
        "file1.close()\n",
        "file1 = open('myfile.txt', 'r')\n",
        "Lines = file1.readlines()\n",
        "count = 0\n",
        "for line in Lines:\n",
        "    count += 1\n",
        "    print(\"Line{}: {}\".format(count, line.strip()))"
      ],
      "metadata": {
        "colab": {
          "base_uri": "https://localhost:8080/"
        },
        "id": "pIGIhKq5fQrG",
        "outputId": "2fe9aa7b-eda9-4d79-e0db-c1a2575a8856"
      },
      "execution_count": 51,
      "outputs": [
        {
          "output_type": "stream",
          "name": "stdout",
          "text": [
            "Line1: India\n",
            "Line2: won\n",
            "Line3: 2024 T20 world cup\n"
          ]
        }
      ]
    },
    {
      "cell_type": "markdown",
      "source": [
        "8. Use a lambda function in Python to sort a list of tuples based on the second element of each tuple."
      ],
      "metadata": {
        "id": "FWNVJXuxfc_b"
      }
    },
    {
      "cell_type": "code",
      "source": [
        "#code\n",
        "subject_marks = [('English', 88), ('Science', 90), ('Maths', 97), ('Social sciences', 82)]\n",
        "print(\"Original list of tuples:\")\n",
        "print(subject_marks)\n",
        "subject_marks.sort(key=lambda x: x[1])\n",
        "print(\"\\nSorting the List of Tuples:\")\n",
        "print(subject_marks)"
      ],
      "metadata": {
        "colab": {
          "base_uri": "https://localhost:8080/"
        },
        "id": "atN_66CrfcGV",
        "outputId": "0f2ce3a5-78b0-466b-e2b2-b0f70e0abc85"
      },
      "execution_count": 52,
      "outputs": [
        {
          "output_type": "stream",
          "name": "stdout",
          "text": [
            "Original list of tuples:\n",
            "[('English', 88), ('Science', 90), ('Maths', 97), ('Social sciences', 82)]\n",
            "\n",
            "Sorting the List of Tuples:\n",
            "[('Social sciences', 82), ('English', 88), ('Science', 90), ('Maths', 97)]\n"
          ]
        }
      ]
    },
    {
      "cell_type": "markdown",
      "source": [
        "9. Write a Python program that uses `map()` to convert a list of temperatures from Celsius to Fahrenheit."
      ],
      "metadata": {
        "id": "FUbHkaZ-fpTK"
      }
    },
    {
      "cell_type": "code",
      "source": [
        "celsius = 47 #code\n",
        "fahrenheit = (celsius * 1.8) + 32\n",
        "print('%.2f Celsius is equivalent to: %.2f Fahrenheit'\n",
        "\t% (celsius, fahrenheit))"
      ],
      "metadata": {
        "colab": {
          "base_uri": "https://localhost:8080/"
        },
        "id": "Hz2DfbR7foTl",
        "outputId": "d61ea796-4fa9-4f97-e0b4-660fbdf65231"
      },
      "execution_count": 53,
      "outputs": [
        {
          "output_type": "stream",
          "name": "stdout",
          "text": [
            "47.00 Celsius is equivalent to: 116.60 Fahrenheit\n"
          ]
        }
      ]
    },
    {
      "cell_type": "markdown",
      "source": [
        "10.Create a Python program that uses `filter()` to remove all the vowels from a given string."
      ],
      "metadata": {
        "id": "aK_42RPEfwOi"
      }
    },
    {
      "cell_type": "code",
      "source": [
        "#code\n",
        "a=list(\"cucurbita maxima\")\n",
        "def vowel(x):\n",
        "    v=('a','e','i','o','u')\n",
        "    return x in v\n",
        "b=list(filter(vowel,a))\n",
        "print(\"Vowels : \",b)\n",
        "print(\"No of Vowels : \",len(b))"
      ],
      "metadata": {
        "colab": {
          "base_uri": "https://localhost:8080/"
        },
        "id": "yY7vhROEfvn8",
        "outputId": "7bbff6b4-8efd-4c70-fee7-84d36f1be89d"
      },
      "execution_count": 55,
      "outputs": [
        {
          "output_type": "stream",
          "name": "stdout",
          "text": [
            "Vowels :  ['u', 'u', 'i', 'a', 'a', 'i', 'a']\n",
            "No of Vowels :  7\n"
          ]
        }
      ]
    },
    {
      "cell_type": "markdown",
      "source": [
        "11.Write a Python program, which returns a list with 2-tuples. Each tuple consists of the order number and the\n",
        "product of the price per item and the quantity. The product should be increased by 10,- € if the value of the\n",
        "order is smaller than 100,00 €.\n",
        "\n",
        "Write a Python program using lambda and map."
      ],
      "metadata": {
        "id": "_aILyIkogEMp"
      }
    },
    {
      "cell_type": "code",
      "source": [
        "orders = [\n",
        "    [\"34587\", \"Learning Python, Mark Lutz\", 4, 40.95],\n",
        "    [\"98762\", \"Programming Python, Mark Lutz\", 5, 56.80],\n",
        "    [\"77226\", \"Head First Python, Paul Barry\", 3, 32.95],\n",
        "    [\"88112\", \"Python Cookbook, David Beazley\", 3, 24.99]\n",
        "]\n",
        "\n",
        "result = list(map(lambda x: (x[0], x[2] * x[3] + 10 if x[2] * x[3] < 100 else x[2] * x[3]), orders))\n",
        "\n",
        "print(result) #code"
      ],
      "metadata": {
        "colab": {
          "base_uri": "https://localhost:8080/"
        },
        "id": "yrMs52_4gBnz",
        "outputId": "f470ab27-d1f6-4e55-83b1-dcbe9e9d53d1"
      },
      "execution_count": 56,
      "outputs": [
        {
          "output_type": "stream",
          "name": "stdout",
          "text": [
            "[('34587', 163.8), ('98762', 284.0), ('77226', 108.85000000000001), ('88112', 84.97)]\n"
          ]
        }
      ]
    },
    {
      "cell_type": "code",
      "source": [],
      "metadata": {
        "id": "Iq0PVsBOg0Dp"
      },
      "execution_count": null,
      "outputs": []
    }
  ]
}